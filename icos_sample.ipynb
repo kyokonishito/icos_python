{
 "cells": [
  {
   "cell_type": "markdown",
   "metadata": {},
   "source": [
    "# IBM Cloud Object Storage (ICOS) をpythonから操作\n",
    "\n",
    "この説明はQiita [IBM Cloud Object Storage (ICOS) をpythonから操作](https://qiita.com/nishikyon/items/5cf4eaaea380bb0db1df/)にあります。\n",
    "\n",
    "参考：\n",
    "- https://cloud.ibm.com/docs/cloud-object-storage?topic=cloud-object-storage-python&locale=en\n",
    "- https://ibm.github.io/ibm-cos-sdk-python/reference/services/s3.html"
   ]
  },
  {
   "cell_type": "markdown",
   "metadata": {},
   "source": [
    "# 1. 資格情報のセット\n",
    "参考: [1.準備](https://qiita.com/nishikyon/items/5cf4eaaea380bb0db1df#1%E6%BA%96%E5%82%99)"
   ]
  },
  {
   "cell_type": "code",
   "execution_count": null,
   "metadata": {},
   "outputs": [],
   "source": [
    "credencials={\n",
    "  \"apikey\": \"XXXXXXXXXXXXXXXXXXXXXXXXX-\",\n",
    "  \"cos_hmac_keys\": {\n",
    "    \"access_key_id\": \"XXXXXXXXXXXXXXXXXXXXXXXXX\",\n",
    "    \"secret_access_key\": \"XXXXXXXXXXXXXXXXXXXXXXXXX12345678\"\n",
    "  },\n",
    "  \"endpoints\": \"https://control.cloud-object-storage.cloud.ibm.com/v2/endpoints\",\n",
    "  \"iam_apikey_description\": \"Auto-generated for key XXXXXXXXXXXXXXXXXXXXXXXXX12345678\",\n",
    "  \"iam_apikey_name\": \"hdm-db2\",\n",
    "  \"iam_role_crn\": \"crn:v1:bluemix:public:iam::::serviceRole:Writer\",\n",
    "  \"iam_serviceid_crn\": \"crn:v1:bluemix:public:iam-identity::XXXXXXXXXXXXXXXXXXXXXXXXX12345678\",\n",
    "  \"resource_instance_id\": \"crn:v1:bluemix:public:cloud-object-storage:global:XXXXXXXXXXXXXXXXXXXXXXXXX12345678\"\n",
    "}"
   ]
  },
  {
   "cell_type": "markdown",
   "metadata": {},
   "source": [
    "# 2. ibm_boto3　ライブラリの導入\n",
    "参考: [2. ibm_boto3　ライブラリの導入](https://qiita.com/nishikyon/items/5cf4eaaea380bb0db1df#2-ibm_boto3%E3%83%A9%E3%82%A4%E3%83%96%E3%83%A9%E3%83%AA%E3%81%AE%E5%B0%8E%E5%85%A5)"
   ]
  },
  {
   "cell_type": "code",
   "execution_count": null,
   "metadata": {},
   "outputs": [],
   "source": [
    "!pip install ibm-cos-sdk"
   ]
  },
  {
   "cell_type": "markdown",
   "metadata": {},
   "source": [
    "# 3. resourceの作成\n",
    "参考: [3. resourceの作成](https://qiita.com/nishikyon/items/5cf4eaaea380bb0db1df#3-resource%E3%81%AE%E4%BD%9C%E6%88%90)"
   ]
  },
  {
   "cell_type": "code",
   "execution_count": null,
   "metadata": {},
   "outputs": [],
   "source": [
    "import ibm_boto3\n",
    "from ibm_botocore.client import Config, ClientError\n",
    "\n",
    "# Constants for IBM COS values\n",
    "# 自分のエンドポイントに変更する\n",
    "COS_ENDPOINT = \"https://s3.private.jp-tok.cloud-object-storage.appdomain.cloud\"\n",
    "\n",
    "# APIKEYを入れる 例”W00YixxxxxxxxxxMB-odB-2ySfTrFBIQQWanc--P3byk\"\n",
    "COS_API_KEY_ID = credencials[\"apikey\"] \n",
    "\n",
    "# resource_instance_idを入れる 例\"crn:v1:bluemix:public:cloud-object-storage:global:a/3bf0d9003xxxxxxxxxx1c3e97696b71c:d6f04d83-6c4f-4a62-a165-696756d63903::\"\n",
    "COS_INSTANCE_CRN =  credencials[\"resource_instance_id\"]  \n",
    "\n",
    "# Create resource\n",
    "resource = ibm_boto3.resource(\"s3\",\n",
    "    ibm_api_key_id=COS_API_KEY_ID,\n",
    "    ibm_service_instance_id=COS_INSTANCE_CRN,\n",
    "    config=Config(signature_version=\"oauth\"),\n",
    "    endpoint_url=COS_ENDPOINT\n",
    ")"
   ]
  },
  {
   "cell_type": "markdown",
   "metadata": {},
   "source": [
    "# 4. ファイルのアップロード\n",
    "参考: [4. ファイルのアップロード](https://qiita.com/nishikyon/items/5cf4eaaea380bb0db1df#4-%E3%83%95%E3%82%A1%E3%82%A4%E3%83%AB%E3%81%AE%E3%82%A2%E3%83%83%E3%83%97%E3%83%AD%E3%83%BC%E3%83%89)"
   ]
  },
  {
   "cell_type": "code",
   "execution_count": null,
   "metadata": {},
   "outputs": [],
   "source": [
    "#とりあえテスト用ファイルダウンロード\n",
    "import urllib\n",
    "url = \"https://covid19.mhlw.go.jp/public/opendata/newly_confirmed_cases_daily.csv\"\n",
    "save_file = \"newly_confirmed_cases_daily.csv\"\n",
    "data = urllib.request.urlopen(url).read()\n",
    "with open(save_file, mode=\"wb\") as f:\n",
    "    f.write(data)"
   ]
  },
  {
   "cell_type": "code",
   "execution_count": null,
   "metadata": {},
   "outputs": [],
   "source": [
    "#アップロード先Bucket名\n",
    "target_bucket = \"python-test-2022\" \n",
    "#アップロード 元ファイル名\n",
    "src_file = \"newly_confirmed_cases_daily.csv\"\n",
    "#アップロード 先ファイル名(必要ならpathをつける)\n",
    "target_file =\"newly_confirmed_cases_daily.csv\"\n",
    "\n",
    "bucket = resource.Bucket(target_bucket)\n",
    "bucket.upload_file(src_file, target_file)"
   ]
  },
  {
   "cell_type": "code",
   "execution_count": null,
   "metadata": {},
   "outputs": [],
   "source": [
    "#確認\n",
    "object = resource.Object(target_bucket, target_file)\n",
    "response = object.get()\n",
    "body = response['Body'].read(1000)\n",
    "print(body.decode('utf-8', \"ignore\"))"
   ]
  },
  {
   "cell_type": "markdown",
   "metadata": {},
   "source": [
    "# 5. ファイルのコピー\n",
    "参考: [5. ファイルのコピー](https://qiita.com/nishikyon/items/5cf4eaaea380bb0db1df#5-%E3%83%95%E3%82%A1%E3%82%A4%E3%83%AB%E3%81%AE%E3%82%B3%E3%83%94%E3%83%BC)"
   ]
  },
  {
   "cell_type": "code",
   "execution_count": null,
   "metadata": {},
   "outputs": [],
   "source": [
    "# コピー元ファイル情報\n",
    "copy_source = {\n",
    "    #  コピー元Bucket名\n",
    "    \"Bucket\": \"python-test-2022\" ,\n",
    "     #  コピー元File名\n",
    "    \"Key\": \"newly_confirmed_cases_daily.csv\"\n",
    "}\n",
    "#コピー先 Bucket名\n",
    "target_bucket = \"python-test-2022\" \n",
    "#コピー先 ファイル名(必要ならpathをつける)\n",
    "target_file =\"copytest/newly_confirmed_cases_daily.csv\"\n",
    "\n",
    "bucket = resource.Bucket(target_bucket)\n",
    "bucket.copy(copy_source, target_file)"
   ]
  },
  {
   "cell_type": "code",
   "execution_count": null,
   "metadata": {},
   "outputs": [],
   "source": [
    "#確認\n",
    "bucket = resource.Bucket(target_bucket)\n",
    "for object in bucket.objects.all():\n",
    "    print(object)"
   ]
  },
  {
   "cell_type": "markdown",
   "metadata": {},
   "source": [
    "# 6. ファイルの削除\n",
    "参考: [6. ファイルの削除](https://qiita.com/nishikyon/items/5cf4eaaea380bb0db1df#6-%E3%83%95%E3%82%A1%E3%82%A4%E3%83%AB%E3%81%AE%E5%89%8A%E9%99%A4)"
   ]
  },
  {
   "cell_type": "code",
   "execution_count": null,
   "metadata": {},
   "outputs": [],
   "source": [
    "#削除するファイルが入っている Bucket名\n",
    "target_bucket = \"python-test-2022\" \n",
    "#削除ファイル名(必要ならpathをつける)\n",
    "delete_file =\"newly_confirmed_cases_daily.csv\"\n",
    "\n",
    "object = resource.Object(target_bucket, delete_file)\n",
    "object.delete()"
   ]
  },
  {
   "cell_type": "code",
   "execution_count": null,
   "metadata": {},
   "outputs": [],
   "source": [
    "#確認\n",
    "bucket = resource.Bucket(target_bucket)\n",
    "for object in bucket.objects.all():\n",
    "    print(object)"
   ]
  },
  {
   "cell_type": "markdown",
   "metadata": {},
   "source": [
    "# 7. ファイルのダウンロード\n",
    "参考: [7. ファイルのダウンロード](https://qiita.com/nishikyon/items/5cf4eaaea380bb0db1df#7-%E3%83%95%E3%82%A1%E3%82%A4%E3%83%AB%E3%81%AE%E3%83%80%E3%82%A6%E3%83%B3%E3%83%AD%E3%83%BC%E3%83%89)"
   ]
  },
  {
   "cell_type": "code",
   "execution_count": null,
   "metadata": {},
   "outputs": [],
   "source": [
    "#ダウンロードするファイルが入っている Bucket名\n",
    "source_bucket = \"python-test-2022\" \n",
    "#ダウンロードするファイル名(必要ならpathをつける)\n",
    "source_file =\"copytest/newly_confirmed_cases_daily.csv\"\n",
    "# ローカルの保存先ファイル名(必要ならpathをつける)\n",
    "local_file =\"icos_newly_confirmed_cases_daily.csv\"\n",
    "\n",
    "object = resource.Object(source_bucket, source_file)\n",
    "object.download_file(local_file)"
   ]
  },
  {
   "cell_type": "code",
   "execution_count": null,
   "metadata": {},
   "outputs": [],
   "source": [
    "import os\n",
    "\n",
    "#ダウンロード確認\n",
    "if(os.path.isfile(local_file) == True):\n",
    "    print('Download OK')\n",
    "else:\n",
    "    print('Download Failed')"
   ]
  }
 ],
 "metadata": {
  "kernelspec": {
   "display_name": "Python 3.8",
   "language": "python",
   "name": "python3"
  },
  "language_info": {
   "codemirror_mode": {
    "name": "ipython",
    "version": 3
   },
   "file_extension": ".py",
   "mimetype": "text/x-python",
   "name": "python",
   "nbconvert_exporter": "python",
   "pygments_lexer": "ipython3",
   "version": "3.8.12"
  }
 },
 "nbformat": 4,
 "nbformat_minor": 1
}
